{
 "cells": [
  {
   "cell_type": "markdown",
   "metadata": {},
   "source": [
    "# Crunchbase Web Request"
   ]
  },
  {
   "cell_type": "markdown",
   "metadata": {},
   "source": [
    "Curl is a unix command, used to transfer or recieve data\n",
    "\n",
    "Here, I make a request to Crunchbases's company section of the website to retrieve its information. There is data here relating to company name, category groups, headquarter location, description, rank based on Crunchbase's algorithm. For example, as of 24th September 2017, Alibaba was the highest ranked startup."
   ]
  },
  {
   "cell_type": "code",
   "execution_count": 2,
   "metadata": {
    "collapsed": true
   },
   "outputs": [],
   "source": [
    "webpage = \"https://www.crunchbase.com/app/search/companies\""
   ]
  },
  {
   "cell_type": "markdown",
   "metadata": {},
   "source": [
    "Test to see if I can retrieve data from Crunchbase"
   ]
  },
  {
   "cell_type": "code",
   "execution_count": 2,
   "metadata": {
    "scrolled": true
   },
   "outputs": [
    {
     "name": "stdout",
     "output_type": "stream",
     "text": [
      "<!DOCTYPE html>\r\n",
      "<html>\r\n",
      "\r\n",
      "  \r\n",
      "  \r\n",
      "  \r\n",
      "  \r\n",
      "\r\n",
      "<head>\r\n",
      "  <title>Pardon Our Interruption</title>\r\n",
      "  <link rel=\"stylesheet\" type=\"text/css\" href=\"//cdn.distilnetworks.com/css/distil.css\" media=\"all\">\r\n",
      "  <meta http-equiv=\"content-type\" content=\"text/html; charset=UTF-8\" />\r\n",
      "  <meta name=\"viewport\" content=\"width=1000\" />\r\n",
      "  <META NAME=\"robots\" CONTENT=\"noindex, nofollow\">\r\n",
      "  <meta http-equiv=\"cache-control\" content=\"max-age=0\" />\r\n",
      "  <meta http-equiv=\"cache-control\" content=\"no-cache\" />\r\n",
      "  <meta http-equiv=\"expires\" content=\"0\" />\r\n",
      "  <meta http-equiv=\"expires\" content=\"Tue, 01 Jan 1980 1:00:00 GMT\" />\r\n",
      "  <meta http-equiv=\"pragma\" content=\"no-cache\" />\r\n",
      "</head>\r\n",
      "\r\n",
      "<body class='block-page'>\r\n",
      "  <div class='container'>\r\n",
      "    <div class='row'>\r\n",
      "      <div class='sidebar col-lg-4 col-sm-5'>\r\n",
      "        <img src=\"//cdn.distilnetworks.com/images/anomaly-detected.png\" alt=\"0\">\r\n",
      "      </div>\r\n",
      "      <div class='content col-lg-8 col-sm-7'>\r\n",
      "        <h1>Pardon Our Interruption...</h1>\r\n",
      "        <p>\r\n",
      "          As you were browsing <strong>http://www.crunchbase.com</strong> something about your browser made us think you were a bot. There are a few reasons this might happen:\r\n",
      "        </p>\r\n",
      "        <ul>\r\n",
      "          <li>You're a power user moving through this website with super-human speed.</li>\r\n",
      "          <li>You've disabled JavaScript in your web browser.</li>\r\n",
      "          <li>A third-party browser plugin, such as Ghostery or  NoScript, is preventing JavaScript from running. Additional information is available in this <a title='Third party browser plugins that block javascript' href='http://ds.tl/help-third-party-plugins' target='_blank'>support article</a>.</li>\r\n",
      "        </ul>\r\n",
      "        <p>\r\n",
      "          To request an unblock, please fill out the form below and we will review it as soon as possible.\r\n",
      "        </p>\r\n",
      "\r\n",
      "        <form id=\"vutewarzdxecxzze\" method=\"POST\" action=\"qexdzbqtexvzqafz.html\" style=\"display:none\"><label>Ignore: <input type=\"text\" name=\"email\" /></label><label>Ignore: <input type=\"text\" name=\"comments\" /></label><label>Ignore: <input type=\"submit\" value=\"Submit\" /></label></form><form id=\"demoForm\" method=\"post\" action=\"https://unblock.distilnetworks.com/\">\r\n",
      "          <div class=\"form-group\">\r\n",
      "            <label for=\"first_name\">First Name</label>\r\n",
      "            <input type=\"text\" class=\"form-control\" id=\"first_name\" name=\"first_name\" value=\"\">\r\n",
      "          </div>\r\n",
      "          <div class=\"form-group\">\r\n",
      "            <label for=\"last_name\">Last Name</label>\r\n",
      "            <input type=\"text\" class=\"form-control\" id=\"last_name\" name=\"last_name\" value=\"\">\r\n",
      "          </div>\r\n",
      "          <div class=\"form-group\">\r\n",
      "            <label for=\"email\">E-mail</label>\r\n",
      "            <input type=\"text\" class=\"form-control\" id=\"email\" name=\"email\" value=\"\">\r\n",
      "          </div>\r\n",
      "          <div class=\"form-group hide\">\r\n",
      "            <label for=\"city\">City</label>\r\n",
      "            <input type=\"text\" class=\"form-control hide\" id=\"city\" name=\"city\" value=\"\">\r\n",
      "          </div>\r\n",
      "          <input type=\"hidden\" name=\"B\" value=\"2946:129.215.3.83:14CDB9B4-DE01-3FAA-AFF5-65BC2F771745\" />\r\n",
      "          <input type=\"hidden\" name=\"P\" value=\"14CDB9B4-DE01-3FAA-AFF5-65BC2F771745\" />\r\n",
      "          <input type=\"hidden\" name=\"I\" value=\"\" />\r\n",
      "          <input type=\"hidden\" name=\"U\" value=\"\" />\r\n",
      "          <input type=\"hidden\" name=\"V\" value=\"13\" />\r\n",
      "          <input type=\"hidden\" name=\"D\" value=\"2946\" />\r\n",
      "          <input type=\"hidden\" name=\"A\" value=\"832\" />\r\n",
      "          <input type=\"hidden\" name=\"H\" value=\"www.crunchbase.com\" />\r\n",
      "          <input type=\"hidden\" name=\"LOADED\" value=\"2017-09-24 15:50:26\" />\r\n",
      "          <input type=\"hidden\" id=\"distil_block_identity_info\" name=\"PB\" value=\"\" />\r\n",
      "          <hr>\r\n",
      "          <button type=\"submit\" class=\"btn btn-primary btn-lg\">Request Unblock</button>\r\n",
      "        </form>\r\n",
      "        <p id=\"extraUnblock\">\r\n",
      "          <small style=\"font-size: 8pt\">\r\n",
      "            You reached this page when attempting to access http://www.crunchbase.com/app/search/companies from 129.215.3.83 on 2017-09-24 15:50:26 GMT.<br />\r\n",
      "            Trace: 159276C6-A140-11E7-8D5F-EA12422B4475 via 7eabcc2b-fd4d-429d-ad5b-61001d67db41\r\n",
      "          </small>\r\n",
      "        </p>\r\n",
      "      </div>\r\n",
      "    </div>\r\n",
      "  </div>\r\n",
      "</body>\r\n",
      "\r\n",
      "</html>\r\n"
     ]
    }
   ],
   "source": [
    "!curl $webpage"
   ]
  },
  {
   "cell_type": "markdown",
   "metadata": {},
   "source": [
    "The output above shows that the website has a bot detection software but we will see in the following data downloading section if data can be retrieved using get **hopefully it will**"
   ]
  },
  {
   "cell_type": "markdown",
   "metadata": {},
   "source": [
    "The example below uses wget which is a unix command that downloads textual information and stores it in a html. The data of the webrequest to Crunchbase's webpage above was stored in companies using the following wget command."
   ]
  },
  {
   "cell_type": "code",
   "execution_count": 3,
   "metadata": {},
   "outputs": [
    {
     "name": "stdout",
     "output_type": "stream",
     "text": [
      "--2017-09-24 16:52:31--  https://www.crunchbase.com/app/search/companies\n",
      "Resolving www.crunchbase.com (www.crunchbase.com)... 192.30.31.194\n",
      "Connecting to www.crunchbase.com (www.crunchbase.com)|192.30.31.194|:443... connected.\n",
      "HTTP request sent, awaiting response... 416 Requested Range Not Satisfiable\n",
      "\n",
      "    The file is already fully retrieved; nothing to do.\n",
      "\n"
     ]
    }
   ],
   "source": [
    "!wget $webpage -P ../data/crunchbaseTest"
   ]
  },
  {
   "cell_type": "markdown",
   "metadata": {},
   "source": [
    "Unfortunately, data was not allowed to be accessed using wget. Will try using the python beautiful soup module. **hurdle**"
   ]
  },
  {
   "cell_type": "markdown",
   "metadata": {
    "collapsed": true
   },
   "source": [
    "## Import required libraries"
   ]
  },
  {
   "cell_type": "markdown",
   "metadata": {
    "collapsed": true
   },
   "source": [
    "The libraries I will use for now is Python's beautiful soup which is useful for webscraping alongside requests\n",
    "\n",
    "https://www.crummy.com/software/BeautifulSoup/bs4/doc/#installing-beautiful-soup\n",
    "http://docs.python-requests.org/en/master/"
   ]
  },
  {
   "cell_type": "code",
   "execution_count": 1,
   "metadata": {
    "collapsed": true
   },
   "outputs": [],
   "source": [
    "from bs4 import BeautifulSoup\n",
    "import requests"
   ]
  },
  {
   "cell_type": "code",
   "execution_count": 3,
   "metadata": {
    "collapsed": true
   },
   "outputs": [],
   "source": [
    "response = requests.get(webpage)"
   ]
  },
  {
   "cell_type": "markdown",
   "metadata": {},
   "source": [
    "Beautiful Soup makes the scraped html response look \"Beautiful\""
   ]
  },
  {
   "cell_type": "code",
   "execution_count": 4,
   "metadata": {},
   "outputs": [
    {
     "name": "stderr",
     "output_type": "stream",
     "text": [
      "/afs/inf.ed.ac.uk/user/s17/s1780019/miniconda2/envs/iaml/lib/python2.7/site-packages/bs4/__init__.py:181: UserWarning: No parser was explicitly specified, so I'm using the best available HTML parser for this system (\"html5lib\"). This usually isn't a problem, but if you run this code on another system, or in a different virtual environment, it may use a different parser and behave differently.\n",
      "\n",
      "The code that caused this warning is on line 174 of the file /afs/inf.ed.ac.uk/user/s17/s1780019/miniconda2/envs/iaml/lib/python2.7/runpy.py. To get rid of this warning, change code that looks like this:\n",
      "\n",
      " BeautifulSoup(YOUR_MARKUP})\n",
      "\n",
      "to this:\n",
      "\n",
      " BeautifulSoup(YOUR_MARKUP, \"html5lib\")\n",
      "\n",
      "  markup_type=markup_type))\n"
     ]
    }
   ],
   "source": [
    "soup = BeautifulSoup(response.text)"
   ]
  },
  {
   "cell_type": "markdown",
   "metadata": {},
   "source": [
    "Investigate the output"
   ]
  },
  {
   "cell_type": "code",
   "execution_count": 5,
   "metadata": {},
   "outputs": [
    {
     "data": {
      "text/plain": [
       "<!DOCTYPE html>\\n<html><head>\\n  <title>Pardon Our Interruption</title>\\n  <link href=\"//cdn.distilnetworks.com/css/distil.css\" media=\"all\" rel=\"stylesheet\" type=\"text/css\"/>\\n  <meta content=\"text/html; charset=unicode-escape\" http-equiv=\"content-type\"/>\\n  <meta content=\"width=1000\" name=\"viewport\"/>\\n  <meta content=\"noindex, nofollow\" name=\"robots\"/>\\n  <meta content=\"max-age=0\" http-equiv=\"cache-control\"/>\\n  <meta content=\"no-cache\" http-equiv=\"cache-control\"/>\\n  <meta content=\"0\" http-equiv=\"expires\"/>\\n  <meta content=\"Tue, 01 Jan 1980 1:00:00 GMT\" http-equiv=\"expires\"/>\\n  <meta content=\"no-cache\" http-equiv=\"pragma\"/>\\n</head>\\n\\n<body class=\"block-page\">\\n  <div class=\"container\">\\n    <div class=\"row\">\\n      <div class=\"sidebar col-lg-4 col-sm-5\">\\n        <img alt=\"0\" src=\"//cdn.distilnetworks.com/images/anomaly-detected.png\"/>\\n      </div>\\n      <div class=\"content col-lg-8 col-sm-7\">\\n        <h1>Pardon Our Interruption...</h1>\\n        <p>\\n          As you were browsing <strong>http://www.crunchbase.com</strong> something about your browser made us think you were a bot. There are a few reasons this might happen:\\n        </p>\\n        <ul>\\n          <li>You're a power user moving through this website with super-human speed.</li>\\n          <li>You've disabled JavaScript in your web browser.</li>\\n          <li>A third-party browser plugin, such as Ghostery or  NoScript, is preventing JavaScript from running. Additional information is available in this <a href=\"http://ds.tl/help-third-party-plugins\" target=\"_blank\" title=\"Third party browser plugins that block javascript\">support article</a>.</li>\\n        </ul>\\n        <p>\\n          To request an unblock, please fill out the form below and we will review it as soon as possible.\\n        </p>\\n\\n        <form action=\"buqbxysxaqqef.html\" id=\"rvfqqradvdaswzxfxwx\" method=\"POST\" style=\"display:none\"><label>Ignore: <input name=\"name\" type=\"text\"/></label><label>Ignore: <input name=\"email\" type=\"text\"/></label><label>Ignore: <input type=\"submit\" value=\"Submit\"/></label></form><form action=\"https://unblock.distilnetworks.com/\" id=\"demoForm\" method=\"post\">\\n          <div class=\"form-group\">\\n            <label for=\"first_name\">First Name</label>\\n            <input class=\"form-control\" id=\"first_name\" name=\"first_name\" type=\"text\" value=\"\"/>\\n          </div>\\n          <div class=\"form-group\">\\n            <label for=\"last_name\">Last Name</label>\\n            <input class=\"form-control\" id=\"last_name\" name=\"last_name\" type=\"text\" value=\"\"/>\\n          </div>\\n          <div class=\"form-group\">\\n            <label for=\"email\">E-mail</label>\\n            <input class=\"form-control\" id=\"email\" name=\"email\" type=\"text\" value=\"\"/>\\n          </div>\\n          <div class=\"form-group hide\">\\n            <label for=\"city\">City</label>\\n            <input class=\"form-control hide\" id=\"city\" name=\"city\" type=\"text\" value=\"\"/>\\n          </div>\\n          <input name=\"B\" type=\"hidden\" value=\"2946:129.215.3.83:1E9B0FF7-9E1F-379F-A90E-F22277DBECF9\"/>\\n          <input name=\"P\" type=\"hidden\" value=\"1E9B0FF7-9E1F-379F-A90E-F22277DBECF9\"/>\\n          <input name=\"I\" type=\"hidden\" value=\"\"/>\\n          <input name=\"U\" type=\"hidden\" value=\"\"/>\\n          <input name=\"V\" type=\"hidden\" value=\"13\"/>\\n          <input name=\"D\" type=\"hidden\" value=\"2946\"/>\\n          <input name=\"A\" type=\"hidden\" value=\"832\"/>\\n          <input name=\"H\" type=\"hidden\" value=\"www.crunchbase.com\"/>\\n          <input name=\"LOADED\" type=\"hidden\" value=\"2017-09-24 16:10:07\"/>\\n          <input id=\"distil_block_identity_info\" name=\"PB\" type=\"hidden\" value=\"\"/>\\n          <hr/>\\n          <button class=\"btn btn-primary btn-lg\" type=\"submit\">Request Unblock</button>\\n        </form>\\n        <p id=\"extraUnblock\">\\n          <small style=\"font-size: 8pt\">\\n            You reached this page when attempting to access http://www.crunchbase.com/app/search/companies from 129.215.3.83 on 2017-09-24 16:10:07 GMT.<br/>\\n            Trace: D50B3D9C-A142-11E7-815B-F0B85334ED3D via 9161c6d6-6b05-48d1-82fa-e1dbcae145d9\\n          </small>\\n        </p>\\n      </div>\\n    </div>\\n  </div>\\n\\n\\n\\n</body></html>"
      ]
     },
     "execution_count": 5,
     "metadata": {},
     "output_type": "execute_result"
    }
   ],
   "source": [
    "soup"
   ]
  },
  {
   "cell_type": "markdown",
   "metadata": {},
   "source": [
    "Again, no way at the moment through Crunchbase's firewall, the next stage is to get request from them to use their API. This is the nextstage"
   ]
  },
  {
   "cell_type": "code",
   "execution_count": null,
   "metadata": {
    "collapsed": true
   },
   "outputs": [],
   "source": []
  }
 ],
 "metadata": {
  "kernelspec": {
   "display_name": "Python 2",
   "language": "python",
   "name": "python2"
  },
  "language_info": {
   "codemirror_mode": {
    "name": "ipython",
    "version": 2
   },
   "file_extension": ".py",
   "mimetype": "text/x-python",
   "name": "python",
   "nbconvert_exporter": "python",
   "pygments_lexer": "ipython2",
   "version": "2.7.13"
  }
 },
 "nbformat": 4,
 "nbformat_minor": 2
}
